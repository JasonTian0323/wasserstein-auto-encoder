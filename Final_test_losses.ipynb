{
 "cells": [
  {
   "cell_type": "code",
   "execution_count": 1,
   "metadata": {
    "collapsed": true
   },
   "outputs": [],
   "source": [
    "import torch\n",
    "import torch.nn as nn\n",
    "from torch.autograd import Variable\n",
    "from torch.utils.data import DataLoader\n",
    "from torchvision import datasets, transforms\n",
    "from tqdm import tqdm\n",
    "import numpy as np\n",
    "import pandas as pd\n",
    "import matplotlib.pyplot as plt\n",
    "import seaborn as sns"
   ]
  },
  {
   "cell_type": "code",
   "execution_count": 2,
   "metadata": {
    "collapsed": true
   },
   "outputs": [],
   "source": [
    "args = {}\n",
    "args['dim_h'] = 40            # factor controlling size of hidden layers\n",
    "args['n_channel'] = 1         # number of channels in the input data (MNIST is 1, aka greyscale)\n",
    "args['n_z'] = 20              # number of dimensions in latent space. \n",
    "args['sigma'] = 1.0           # variance in n_z\n",
    "args['lambda'] = 0.01           # hyper param for weight of discriminator loss\n",
    "args['lr'] = 0.0002           # learning rate for Adam optimizer\n",
    "args['epochs'] = 50            # how many epochs to run for\n",
    "args['batch_size'] = 256      # batch size for SGD\n",
    "args['save'] = False          # save weights at each epoch of training if True\n",
    "args['train'] = False         # train networks if True, else load networks from saved weights"
   ]
  },
  {
   "cell_type": "markdown",
   "metadata": {},
   "source": [
    "## load all encoder and decoder classes"
   ]
  },
  {
   "cell_type": "code",
   "execution_count": 3,
   "metadata": {
    "collapsed": true
   },
   "outputs": [],
   "source": [
    "## create encoder model and decoder model\n",
    "class EncoderD(nn.Module):\n",
    "    def __init__(self, args):\n",
    "        super(EncoderD, self).__init__()\n",
    "\n",
    "        self.n_channel = args['n_channel']\n",
    "        self.dim_h = args['dim_h']\n",
    "        self.n_z = args['n_z']\n",
    "        \n",
    "        # convolutional filters, work excellent with image data\n",
    "        self.conv = nn.Sequential(\n",
    "            nn.Conv2d(self.n_channel, self.dim_h, 4, 2, 1, bias=False),\n",
    "            nn.ReLU(True),\n",
    "            nn.Conv2d(self.dim_h, self.dim_h * 2, 4, 2, 1, bias=False),\n",
    "            nn.BatchNorm2d(self.dim_h * 2),\n",
    "            nn.ReLU(True),\n",
    "            nn.Conv2d(self.dim_h * 2, self.dim_h * 4, 4, 2, 1, bias=False),\n",
    "            nn.BatchNorm2d(self.dim_h * 4),\n",
    "            nn.ReLU(True),\n",
    "            nn.Conv2d(self.dim_h * 4, self.dim_h * 8, 4, 2, 1, bias=False),\n",
    "            nn.BatchNorm2d(self.dim_h * 8),\n",
    "            nn.ReLU(True),\n",
    "        )\n",
    "        \n",
    "        # final layer is fully connected\n",
    "        self.fc = nn.Linear(self.dim_h * (2 ** 3), self.n_z)\n",
    "\n",
    "    def forward(self, x):\n",
    "        x = self.conv(x)\n",
    "        x = x.squeeze()\n",
    "        x = self.fc(x)\n",
    "        return x\n",
    "    \n",
    "## create encoder model and decoder model\n",
    "class EncoderS(nn.Module):\n",
    "    def __init__(self, args):\n",
    "        super(EncoderS, self).__init__()\n",
    "\n",
    "        self.n_channel = args['n_channel']\n",
    "        self.dim_h = args['dim_h']\n",
    "        self.n_z = args['n_z']\n",
    "        \n",
    "        # convolutional filters, work excellent with image data\n",
    "        self.conv = nn.Sequential(\n",
    "            nn.Conv2d(self.n_channel, self.dim_h, 4, 2, 1, bias=False),\n",
    "            nn.ReLU(True),\n",
    "            nn.Conv2d(self.dim_h, self.dim_h * 2, 4, 2, 1, bias=False),\n",
    "            nn.BatchNorm2d(self.dim_h * 2),\n",
    "            nn.ReLU(True),\n",
    "            nn.Conv2d(self.dim_h * 2, self.dim_h * 4, 4, 2, 1, bias=False),\n",
    "            nn.BatchNorm2d(self.dim_h * 4),\n",
    "            nn.ReLU(True),\n",
    "            nn.Conv2d(self.dim_h * 4, self.dim_h * 8, 4, 2, 1, bias=False),\n",
    "            nn.BatchNorm2d(self.dim_h * 8),\n",
    "            nn.ReLU(True),\n",
    "        )\n",
    "        \n",
    "        # final layer is fully connected\n",
    "        self.fc1 = nn.Linear(self.dim_h * (2 ** 3), self.n_z)\n",
    "        self.fc2 = nn.Linear(self.dim_h * (2 ** 3), self.n_z)\n",
    "\n",
    "    def reparameterize(self, mu, logvar):\n",
    "        std = logvar.mul(0.5).exp_()\n",
    "        # return torch.normal(mu, std)\n",
    "        esp = torch.randn(*mu.size())\n",
    "        z = mu + std * esp\n",
    "        return z\n",
    "        \n",
    "    def bottleneck(self, h):\n",
    "        mu, logvar = self.fc1(h), self.fc2(h)\n",
    "        z = self.reparameterize(mu, logvar)\n",
    "        return z, mu, logvar\n",
    "        \n",
    "    \n",
    "    def forward(self, x):\n",
    "        h = self.conv(x)\n",
    "        h = h.squeeze()\n",
    "        z, mu, logvar = self.bottleneck(h)\n",
    "        \n",
    "        return z, mu, logvar\n",
    "\n",
    "class Decoder(nn.Module):\n",
    "    def __init__(self, args):\n",
    "        super(Decoder, self).__init__()\n",
    "\n",
    "        self.n_channel = args['n_channel']\n",
    "        self.dim_h = args['dim_h']\n",
    "        self.n_z = args['n_z']\n",
    "\n",
    "        # first layer is fully connected\n",
    "        self.fc = nn.Sequential(\n",
    "            nn.Linear(self.n_z, self.dim_h * 8 * 7 * 7),\n",
    "            nn.ReLU()\n",
    "        )\n",
    "\n",
    "        # deconvolutional filters, essentially the inverse of convolutional filters\n",
    "        self.deconv = nn.Sequential(\n",
    "            nn.ConvTranspose2d(self.dim_h * 8, self.dim_h * 4, 4),\n",
    "            nn.BatchNorm2d(self.dim_h * 4),\n",
    "            nn.ReLU(True),\n",
    "            nn.ConvTranspose2d(self.dim_h * 4, self.dim_h * 2, 4),\n",
    "            nn.BatchNorm2d(self.dim_h * 2),\n",
    "            nn.ReLU(True),\n",
    "            nn.ConvTranspose2d(self.dim_h * 2, 1, 4, stride=2),\n",
    "            nn.Sigmoid()\n",
    "        )\n",
    "\n",
    "    def forward(self, x):\n",
    "        x = self.fc(x)\n",
    "        x = x.view(-1, self.dim_h * 8, 7, 7)\n",
    "        x = self.deconv(x)\n",
    "        return x"
   ]
  },
  {
   "cell_type": "markdown",
   "metadata": {},
   "source": [
    "## Get final test loss for FMNIST"
   ]
  },
  {
   "cell_type": "code",
   "execution_count": 4,
   "metadata": {
    "collapsed": true
   },
   "outputs": [],
   "source": [
    "# set FMNIST test set\n",
    "dataset = 'FashionMNIST'\n",
    "testset = datasets.FashionMNIST(\n",
    "    root='./FMNIST/',\n",
    "    train=False,\n",
    "    transform=transforms.ToTensor(),\n",
    "    download=True\n",
    ")\n",
    "\n",
    "# load the full validation set as batch size\n",
    "test_loader = DataLoader(\n",
    "    dataset=testset,\n",
    "    batch_size=10000,\n",
    "    shuffle=False\n",
    ")"
   ]
  },
  {
   "cell_type": "code",
   "execution_count": 5,
   "metadata": {
    "collapsed": true
   },
   "outputs": [],
   "source": [
    "# loss for all models\n",
    "criterion = nn.MSELoss()"
   ]
  },
  {
   "cell_type": "code",
   "execution_count": 7,
   "metadata": {},
   "outputs": [
    {
     "name": "stdout",
     "output_type": "stream",
     "text": [
      "AE final reconstruction loss 0.008342660963535309 on FashionMNIST\n",
      "CPU times: user 1min 54s, sys: 11.4 s, total: 2min 6s\n",
      "Wall time: 1min 17s\n"
     ]
    }
   ],
   "source": [
    "%%time\n",
    "\n",
    "# standard AE\n",
    "encoder, decoder = EncoderD(args), Decoder(args)\n",
    "encoder.eval()\n",
    "decoder.eval()\n",
    "\n",
    "# load encoder and decoder weights from checkpoint\n",
    "enc_checkpoint = torch.load('save/AE_encoder-best_fmnist.pth')\n",
    "encoder.load_state_dict(enc_checkpoint)\n",
    "\n",
    "dec_checkpoint = torch.load('save/AE_decoder-best_fmnist.pth')\n",
    "decoder.load_state_dict(dec_checkpoint)\n",
    "\n",
    "for images, _ in test_loader:\n",
    "    z_hat = encoder(images)\n",
    "    x_hat = decoder(z_hat)\n",
    "    ae_FMNIST_test_recon_loss = criterion(x_hat, images)\n",
    "    print('AE final reconstruction loss {} on {}'.format(ae_FMNIST_test_recon_loss.data.item(), \n",
    "                                                         dataset))"
   ]
  },
  {
   "cell_type": "code",
   "execution_count": 8,
   "metadata": {},
   "outputs": [
    {
     "name": "stdout",
     "output_type": "stream",
     "text": [
      "VAE final reconstruction loss 0.01371612399816513 on FashionMNIST\n",
      "CPU times: user 2min 5s, sys: 13.6 s, total: 2min 19s\n",
      "Wall time: 1min 37s\n"
     ]
    }
   ],
   "source": [
    "%%time\n",
    "\n",
    "# VAE\n",
    "encoder, decoder = EncoderS(args), Decoder(args)\n",
    "encoder.eval()\n",
    "decoder.eval()\n",
    "\n",
    "# load encoder and decoder weights from checkpoint\n",
    "enc_checkpoint = torch.load('save/VAE_encoder-best_fmnist.pth')\n",
    "encoder.load_state_dict(enc_checkpoint)\n",
    "\n",
    "dec_checkpoint = torch.load('save/VAE_decoder-best_fmnist.pth')\n",
    "decoder.load_state_dict(dec_checkpoint)\n",
    "\n",
    "for images, _ in test_loader:\n",
    "    z_hat, mu, logvar = encoder(images)\n",
    "    x_hat = decoder(z_hat)\n",
    "    vae_FMNIST_test_recon_loss = criterion(x_hat, images)\n",
    "    print('VAE final reconstruction loss {} on {}'.format(vae_FMNIST_test_recon_loss.data.item(), \n",
    "                                                          dataset))"
   ]
  },
  {
   "cell_type": "code",
   "execution_count": 9,
   "metadata": {},
   "outputs": [
    {
     "name": "stdout",
     "output_type": "stream",
     "text": [
      "WAE final reconstruction loss 0.009289098903536797 on FashionMNIST\n",
      "CPU times: user 2min 11s, sys: 12.6 s, total: 2min 23s\n",
      "Wall time: 1min 33s\n"
     ]
    }
   ],
   "source": [
    "%%time\n",
    "\n",
    "#WAE\n",
    "encoder, decoder = EncoderD(args), Decoder(args)\n",
    "encoder.eval()\n",
    "decoder.eval()\n",
    "\n",
    "# load encoder and decoder weights from checkpoint\n",
    "enc_checkpoint = torch.load('save/WAEgan_encoder-best_fmnist.pth')\n",
    "encoder.load_state_dict(enc_checkpoint)\n",
    "\n",
    "dec_checkpoint = torch.load('save/WAEgan_decoder-best_fmnist.pth')\n",
    "decoder.load_state_dict(dec_checkpoint)\n",
    "\n",
    "for images, _ in test_loader:\n",
    "    z_hat = encoder(images)\n",
    "    x_hat = decoder(z_hat)\n",
    "    wae_FMNIST_test_recon_loss = criterion(x_hat, images)\n",
    "    print('WAE final reconstruction loss {} on {}'.format(wae_FMNIST_test_recon_loss.data.item(), \n",
    "                                                          dataset))"
   ]
  },
  {
   "cell_type": "markdown",
   "metadata": {},
   "source": [
    "## MNIST"
   ]
  },
  {
   "cell_type": "code",
   "execution_count": 10,
   "metadata": {
    "collapsed": true
   },
   "outputs": [],
   "source": [
    "# set FMNIST test set\n",
    "dataset = 'MNIST'\n",
    "testset = datasets.MNIST(\n",
    "    root='./data/',\n",
    "    train=False,\n",
    "    transform=transforms.ToTensor(),\n",
    "    download=True\n",
    ")\n",
    "\n",
    "# load the full validation set as batch size\n",
    "test_loader = DataLoader(\n",
    "    dataset=testset,\n",
    "    batch_size=10000,\n",
    "    shuffle=False\n",
    ")"
   ]
  },
  {
   "cell_type": "code",
   "execution_count": 14,
   "metadata": {},
   "outputs": [
    {
     "name": "stdout",
     "output_type": "stream",
     "text": [
      "AE final reconstruction loss 0.004806568846106529 on MNIST\n",
      "CPU times: user 1min 56s, sys: 12.2 s, total: 2min 9s\n",
      "Wall time: 1min 24s\n"
     ]
    }
   ],
   "source": [
    "%%time \n",
    "\n",
    "# standard AE\n",
    "encoder, decoder = EncoderD(args), Decoder(args)\n",
    "encoder.eval()\n",
    "decoder.eval()\n",
    "\n",
    "# load encoder and decoder weights from checkpoint\n",
    "enc_checkpoint = torch.load('save/AE_encoder-best_mnist.pth')\n",
    "encoder.load_state_dict(enc_checkpoint)\n",
    "\n",
    "dec_checkpoint = torch.load('save/AE_decoder-best_mnist.pth')\n",
    "decoder.load_state_dict(dec_checkpoint)\n",
    "\n",
    "for images, _ in test_loader:\n",
    "    z_hat = encoder(images)\n",
    "    x_hat = decoder(z_hat)\n",
    "    ae_MNIST_test_recon_loss = criterion(x_hat, images)\n",
    "    print('AE final reconstruction loss {} on {}'.format(ae_MNIST_test_recon_loss.data.item(),\n",
    "                                                         dataset))"
   ]
  },
  {
   "cell_type": "code",
   "execution_count": 15,
   "metadata": {},
   "outputs": [
    {
     "name": "stdout",
     "output_type": "stream",
     "text": [
      "VAE final reconstruction loss 0.009478049352765083 on MNIST\n",
      "CPU times: user 2min 9s, sys: 12.9 s, total: 2min 22s\n",
      "Wall time: 1min 34s\n"
     ]
    }
   ],
   "source": [
    "%%time\n",
    "\n",
    "# VAE\n",
    "encoder, decoder = EncoderS(args), Decoder(args)\n",
    "encoder.eval()\n",
    "decoder.eval()\n",
    "\n",
    "# load encoder and decoder weights from checkpoint\n",
    "enc_checkpoint = torch.load('save/VAE_encoder-best_mnist.pth')\n",
    "encoder.load_state_dict(enc_checkpoint)\n",
    "\n",
    "dec_checkpoint = torch.load('save/VAE_decoder-best_mnist.pth')\n",
    "decoder.load_state_dict(dec_checkpoint)\n",
    "\n",
    "for images, _ in test_loader:\n",
    "    z_hat, mu, logvar = encoder(images)\n",
    "    x_hat = decoder(z_hat)\n",
    "    vae_MNIST_test_recon_loss = criterion(x_hat, images)\n",
    "    print('VAE final reconstruction loss {} on {}'.format(vae_MNIST_test_recon_loss.data.item(), \n",
    "                                                          dataset))"
   ]
  },
  {
   "cell_type": "code",
   "execution_count": 16,
   "metadata": {},
   "outputs": [
    {
     "name": "stdout",
     "output_type": "stream",
     "text": [
      "WAE final reconstruction loss 0.00714739877730608 on MNIST\n",
      "CPU times: user 2min 5s, sys: 12.2 s, total: 2min 17s\n",
      "Wall time: 1min 34s\n"
     ]
    }
   ],
   "source": [
    "%%time \n",
    "\n",
    "#WAE\n",
    "encoder, decoder = EncoderD(args), Decoder(args)\n",
    "encoder.eval()\n",
    "decoder.eval()\n",
    "\n",
    "# load encoder and decoder weights from checkpoint\n",
    "enc_checkpoint = torch.load('save/WAEgan_encoder-best_mnist.pth')\n",
    "encoder.load_state_dict(enc_checkpoint)\n",
    "\n",
    "dec_checkpoint = torch.load('save/WAEgan_decoder-best_mnist.pth')\n",
    "decoder.load_state_dict(dec_checkpoint)\n",
    "\n",
    "for images, _ in test_loader:\n",
    "    z_hat = encoder(images)\n",
    "    x_hat = decoder(z_hat)\n",
    "    wae_MNIST_test_recon_loss = criterion(x_hat, images)\n",
    "    print('WAE final reconstruction loss {} on {}'.format(wae_MNIST_test_recon_loss.data.item(), \n",
    "                                                          dataset))"
   ]
  },
  {
   "cell_type": "code",
   "execution_count": 29,
   "metadata": {},
   "outputs": [],
   "source": [
    "model_list = [\"auto-encoder\", \n",
    "              \"variational\\nauto-encoder\", \n",
    "              \"wasserstein\\nauto-encoder\"]\n",
    "\n",
    "fmnist_loss = np.array((ae_FMNIST_test_recon_loss.data.item(), \n",
    "                        vae_FMNIST_test_recon_loss.data.item(), \n",
    "                        wae_FMNIST_test_recon_loss.data.item()))\n",
    "\n",
    "mnist_loss = np.array((ae_MNIST_test_recon_loss.data.item(), \n",
    "                        vae_MNIST_test_recon_loss.data.item(), \n",
    "                        wae_MNIST_test_recon_loss.data.item()))\n"
   ]
  },
  {
   "cell_type": "code",
   "execution_count": 27,
   "metadata": {},
   "outputs": [
    {
     "data": {
      "image/png": "[encoded data removed]",
      "text/plain": [
       "<Figure size 432x288 with 1 Axes>"
      ]
     },
     "metadata": {},
     "output_type": "display_data"
    }
   ],
   "source": [
    "plt.bar(model_list, fmnist_loss)\n",
    "plt.show()"
   ]
  },
  {
   "cell_type": "code",
   "execution_count": 59,
   "metadata": {},
   "outputs": [
    {
     "data": {
      "image/png": "[encoded data removed]",
      "text/plain": [
       "<Figure size 720x252 with 1 Axes>"
      ]
     },
     "metadata": {},
     "output_type": "display_data"
    }
   ],
   "source": [
    "fs=16\n",
    "fig = plt.figure(figsize=(10,3.5))\n",
    "\n",
    "plt.plot(model_list, fmnist_loss, \"ko--\", markersize=10, label=\"FashionMNIST\")\n",
    "plt.plot(model_list, mnist_loss, \"ks-\", markersize=10, label=\"MNIST\")\n",
    "# plt.xlabel(\"model type\", fontsize=fs)\n",
    "plt.title(\"Test reconstruction loss by model type and dataset\", fontsize=fs)\n",
    "plt.xticks(fontsize=fs-2)\n",
    "plt.yticks(fontsize=fs-4)\n",
    "plt.ylabel(\"reconstruction loss (MSE)\", fontsize=fs-2)\n",
    "plt.ylim(bottom=0, top=0.015)\n",
    "plt.margins(x=.2)\n",
    "plt.grid(linestyle=\":\")\n",
    "plt.legend(loc=1)\n",
    "plt.savefig(\"./images/reconstruction_loss.png\", bbox_inches = 'tight', pad_inches = 0)\n",
    "plt.show()"
   ]
  },
  {
   "cell_type": "code",
   "execution_count": 62,
   "metadata": {},
   "outputs": [
    {
     "name": "stdout",
     "output_type": "stream",
     "text": [
      "| MNIST \t|0.0048|0.0095|0.0071|\n",
      "| FashionMNIST \t|0.0083|0.0137|0.0093|\n"
     ]
    }
   ],
   "source": [
    "print(\"| MNIST \\t|{0:.4f}|{1:.4f}|{2:.4f}|\".format(mnist_loss[0], \n",
    "                                                   mnist_loss[1], \n",
    "                                                   mnist_loss[2]))\n",
    "print(\"| FashionMNIST \\t|{0:.4f}|{1:.4f}|{2:.4f}|\".format(fmnist_loss[0], \n",
    "                                                          fmnist_loss[1], \n",
    "                                                          fmnist_loss[2]))"
   ]
  },
  {
   "cell_type": "code",
   "execution_count": null,
   "metadata": {
    "collapsed": true
   },
   "outputs": [],
   "source": []
  }
 ],
 "metadata": {
  "kernelspec": {
   "display_name": "Python 3",
   "language": "python",
   "name": "python3"
  },
  "language_info": {
   "codemirror_mode": {
    "name": "ipython",
    "version": 3
   },
   "file_extension": ".py",
   "mimetype": "text/x-python",
   "name": "python",
   "nbconvert_exporter": "python",
   "pygments_lexer": "ipython3",
   "version": "3.6.3"
  }
 },
 "nbformat": 4,
 "nbformat_minor": 2
}
