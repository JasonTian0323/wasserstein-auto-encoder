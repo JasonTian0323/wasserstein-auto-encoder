{
 "cells": [
  {
   "cell_type": "code",
   "execution_count": 8,
   "metadata": {},
   "outputs": [],
   "source": [
    "import torch\n",
    "import torch.nn as nn\n",
    "from torch.autograd import Variable\n",
    "from torch.utils.data import DataLoader\n",
    "from torchvision import datasets, transforms\n",
    "from tqdm import tqdm\n",
    "import numpy as np\n",
    "import pandas as pd\n",
    "import matplotlib.pyplot as plt\n",
    "import seaborn as sns"
   ]
  },
  {
   "cell_type": "code",
   "execution_count": 9,
   "metadata": {},
   "outputs": [],
   "source": [
    "args = {}\n",
    "args['dim_h'] = 30            # factor controlling size of hidden layers\n",
    "args['n_channel'] = 1         # number of channels in the input data (MNIST is 1, aka greyscale)\n",
    "args['n_z'] = 10              # number of dimensions in latent space. \n",
    "args['sigma'] = 1.0           # variance in n_z\n",
    "args['lambda'] = 10           # hyper param for weight of discriminator loss\n",
    "args['lr'] = 0.0002           # learning rate for Adam optimizer\n",
    "args['epochs'] = 5           # how many epochs to run for\n",
    "args['batch_size'] = 256      # batch size for SGD"
   ]
  },
  {
   "cell_type": "code",
   "execution_count": 10,
   "metadata": {},
   "outputs": [],
   "source": [
    "## load MNIST data train and test sets\n",
    "trainset = datasets.MNIST(\n",
    "    root='./data/',\n",
    "    train=True,\n",
    "    transform=transforms.ToTensor(),\n",
    "    download=True\n",
    ")\n",
    "\n",
    "testset = datasets.MNIST(\n",
    "    root='./data/',\n",
    "    train=False,\n",
    "    transform=transforms.ToTensor(),\n",
    "    download=True\n",
    ")\n",
    "\n",
    "train_loader = DataLoader(\n",
    "    dataset=trainset,\n",
    "    batch_size=args['batch_size'],\n",
    "    shuffle=True\n",
    ")\n",
    "\n",
    "test_loader = DataLoader(\n",
    "    dataset=testset,\n",
    "    batch_size=args['batch_size'],\n",
    "    shuffle=False\n",
    ")"
   ]
  },
  {
   "cell_type": "markdown",
   "metadata": {},
   "source": [
    "## Try out the vanilla autoencoder "
   ]
  },
  {
   "cell_type": "code",
   "execution_count": 11,
   "metadata": {},
   "outputs": [],
   "source": [
    "## create encoder model and decoder model\n",
    "class Encoder(nn.Module):\n",
    "    def __init__(self, args):\n",
    "        super(Encoder, self).__init__()\n",
    "\n",
    "        self.n_channel = args['n_channel']\n",
    "        self.dim_h = args['dim_h']\n",
    "        self.n_z = args['n_z']\n",
    "        \n",
    "        # convolutional filters, work excellent with image data\n",
    "        self.conv = nn.Sequential(\n",
    "            nn.Conv2d(self.n_channel, self.dim_h, 4, 2, 1, bias=False),\n",
    "            nn.ReLU(True),\n",
    "            nn.Conv2d(self.dim_h, self.dim_h * 2, 4, 2, 1, bias=False),\n",
    "            nn.BatchNorm2d(self.dim_h * 2),\n",
    "            nn.ReLU(True),\n",
    "            nn.Conv2d(self.dim_h * 2, self.dim_h * 4, 4, 2, 1, bias=False),\n",
    "            nn.BatchNorm2d(self.dim_h * 4),\n",
    "            nn.ReLU(True),\n",
    "            nn.Conv2d(self.dim_h * 4, self.dim_h * 8, 4, 2, 1, bias=False),\n",
    "            nn.BatchNorm2d(self.dim_h * 8),\n",
    "            nn.ReLU(True),\n",
    "        )\n",
    "        \n",
    "        # final layer is fully connected\n",
    "        self.fc = nn.Linear(self.dim_h * (2 ** 3), self.n_z)\n",
    "\n",
    "    def forward(self, x):\n",
    "        x = self.conv(x)\n",
    "        x = x.squeeze()\n",
    "        x = self.fc(x)\n",
    "        return x\n",
    "\n",
    "class Decoder(nn.Module):\n",
    "    def __init__(self, args):\n",
    "        super(Decoder, self).__init__()\n",
    "\n",
    "        self.n_channel = args['n_channel']\n",
    "        self.dim_h = args['dim_h']\n",
    "        self.n_z = args['n_z']\n",
    "\n",
    "        # first layer is fully connected\n",
    "        self.fc = nn.Sequential(\n",
    "            nn.Linear(self.n_z, self.dim_h * 8 * 7 * 7),\n",
    "            nn.ReLU()\n",
    "        )\n",
    "\n",
    "        # deconvolutional filters, essentially the inverse of convolutional filters\n",
    "        self.deconv = nn.Sequential(\n",
    "            nn.ConvTranspose2d(self.dim_h * 8, self.dim_h * 4, 4),\n",
    "            nn.BatchNorm2d(self.dim_h * 4),\n",
    "            nn.ReLU(True),\n",
    "            nn.ConvTranspose2d(self.dim_h * 4, self.dim_h * 2, 4),\n",
    "            nn.BatchNorm2d(self.dim_h * 2),\n",
    "            nn.ReLU(True),\n",
    "            nn.ConvTranspose2d(self.dim_h * 2, 1, 4, stride=2),\n",
    "            nn.Sigmoid()\n",
    "        )\n",
    "\n",
    "    def forward(self, x):\n",
    "        x = self.fc(x)\n",
    "        x = x.view(-1, self.dim_h * 8, 7, 7)\n",
    "        x = self.deconv(x)\n",
    "        return x"
   ]
  },
  {
   "cell_type": "code",
   "execution_count": 12,
   "metadata": {},
   "outputs": [],
   "source": [
    "# instantiate models, and set to train mode\n",
    "encoder, decoder = Encoder(args), Decoder(args)\n",
    "\n",
    "# specify loss (mean squared error of image reconstruction)\n",
    "criterion = nn.MSELoss()\n",
    "\n",
    "# use the Adam optimizer, it's always a good choice\n",
    "enc_optim = torch.optim.Adam(encoder.parameters(), lr = args['lr'])\n",
    "dec_optim = torch.optim.Adam(decoder.parameters(), lr = args['lr'])\n",
    "\n",
    "enc_scheduler = torch.optim.lr_scheduler.StepLR(enc_optim, step_size=30, gamma=0.5)\n",
    "dec_scheduler = torch.optim.lr_scheduler.StepLR(dec_optim, step_size=30, gamma=0.5)"
   ]
  },
  {
   "cell_type": "code",
   "execution_count": null,
   "metadata": {},
   "outputs": [],
   "source": [
    "for epoch in range(args['epochs']):\n",
    "    for images, _ in tqdm(train_loader):\n",
    "        encoder.train()\n",
    "        decoder.train()\n",
    "        \n",
    "        encoder.zero_grad()\n",
    "        decoder.zero_grad()\n",
    "        batch_size = images.size()[0]\n",
    "\n",
    "        z_hat = encoder(images)\n",
    "        x_hat = decoder(z_hat)\n",
    "        train_recon_loss = criterion(x_hat, images)\n",
    "\n",
    "        train_recon_loss.backward()\n",
    "        \n",
    "        enc_optim.step()\n",
    "        dec_optim.step()\n",
    "        \n",
    "    # Run validation set\n",
    "    for images, _ in tqdm(test_loader):\n",
    "        encoder.eval()\n",
    "        decoder.eval()\n",
    "        z_hat = encoder(images)\n",
    "        x_hat = decoder(z_hat)\n",
    "        test_recon_loss = criterion(x_hat, images)\n",
    "    \n",
    "    save_path = './save/AE_{}-epoch_{}.pth'\n",
    "    torch.save(encoder.state_dict(), save_path.format('encoder', epoch))\n",
    "    torch.save(decoder.state_dict(), save_path.format('decoder', epoch))\n",
    "        \n",
    "    print(\"Epoch: [{}/{}], \\tTrain Reconstruction Loss: {}\\n\\t\\t\\tTest Reconstruction Loss: {}\".format(\n",
    "        epoch + 1, \n",
    "        args['epochs'], \n",
    "        train_recon_loss.data.item(),\n",
    "        test_recon_loss.data.item()\n",
    "    ))"
   ]
  },
  {
   "cell_type": "markdown",
   "metadata": {},
   "source": [
    "## Let's look at some images"
   ]
  },
  {
   "cell_type": "code",
   "execution_count": 7,
   "metadata": {},
   "outputs": [
    {
     "data": {
      "text/plain": [
       "<matplotlib.image.AxesImage at 0x7fa9140b4b38>"
      ]
     },
     "execution_count": 7,
     "metadata": {},
     "output_type": "execute_result"
    },
    {
     "data": {
      "image/png": "[encoded data removed]",
      "text/plain": [
       "<Figure size 432x288 with 1 Axes>"
      ]
     },
     "metadata": {},
     "output_type": "display_data"
    }
   ],
   "source": [
    "# look at an original image\n",
    "plt.imshow(images[0,0].numpy())"
   ]
  },
  {
   "cell_type": "code",
   "execution_count": 8,
   "metadata": {},
   "outputs": [
    {
     "data": {
      "text/plain": [
       "<matplotlib.image.AxesImage at 0x7fa9141007b8>"
      ]
     },
     "execution_count": 8,
     "metadata": {},
     "output_type": "execute_result"
    },
    {
     "data": {
      "image/png": "[encoded data removed]",
      "text/plain": [
       "<Figure size 432x288 with 1 Axes>"
      ]
     },
     "metadata": {},
     "output_type": "display_data"
    }
   ],
   "source": [
    "# run same image through autoencoder and take a peak\n",
    "z_reps = encoder(images)\n",
    "decoded_images = decoder(z_reps)\n",
    "\n",
    "plt.imshow(decoded_images[0,0].detach().numpy())"
   ]
  },
  {
   "cell_type": "code",
   "execution_count": 9,
   "metadata": {},
   "outputs": [
    {
     "data": {
      "text/plain": [
       "<matplotlib.image.AxesImage at 0x7fa90f797080>"
      ]
     },
     "execution_count": 9,
     "metadata": {},
     "output_type": "execute_result"
    },
    {
     "data": {
      "image/png": "[encoded data removed]",
      "text/plain": [
       "<Figure size 432x288 with 1 Axes>"
      ]
     },
     "metadata": {},
     "output_type": "display_data"
    }
   ],
   "source": [
    "# try a random sample of the latent space\n",
    "rand_z_reps = torch.randn_like(z_reps)\n",
    "rand_decoded_images = decoder(rand_z_reps)\n",
    "\n",
    "plt.imshow(rand_decoded_images[0,0].detach().numpy())"
   ]
  },
  {
   "cell_type": "code",
   "execution_count": 11,
   "metadata": {},
   "outputs": [
    {
     "data": {
      "text/plain": [
       "array([[<matplotlib.axes._subplots.AxesSubplot object at 0x7fa90f6bd9e8>,\n",
       "        <matplotlib.axes._subplots.AxesSubplot object at 0x7fa90f665ac8>,\n",
       "        <matplotlib.axes._subplots.AxesSubplot object at 0x7fa90f60ddd8>,\n",
       "        <matplotlib.axes._subplots.AxesSubplot object at 0x7fa90f63d128>],\n",
       "       [<matplotlib.axes._subplots.AxesSubplot object at 0x7fa90f5e6438>,\n",
       "        <matplotlib.axes._subplots.AxesSubplot object at 0x7fa90f5e6470>,\n",
       "        <matplotlib.axes._subplots.AxesSubplot object at 0x7fa90f5b6e10>,\n",
       "        <matplotlib.axes._subplots.AxesSubplot object at 0x7fa90cd1f4e0>],\n",
       "       [<matplotlib.axes._subplots.AxesSubplot object at 0x7fa90ccc6b70>,\n",
       "        <matplotlib.axes._subplots.AxesSubplot object at 0x7fa90cc78240>,\n",
       "        <matplotlib.axes._subplots.AxesSubplot object at 0x7fa90cca18d0>,\n",
       "        <matplotlib.axes._subplots.AxesSubplot object at 0x7fa90cc4af60>],\n",
       "       [<matplotlib.axes._subplots.AxesSubplot object at 0x7fa90cbfa630>,\n",
       "        <matplotlib.axes._subplots.AxesSubplot object at 0x7fa90cc24cc0>,\n",
       "        <matplotlib.axes._subplots.AxesSubplot object at 0x7fa90cbd4390>,\n",
       "        <matplotlib.axes._subplots.AxesSubplot object at 0x7fa90cb7ba20>],\n",
       "       [<matplotlib.axes._subplots.AxesSubplot object at 0x7fa90cbaf0f0>,\n",
       "        <matplotlib.axes._subplots.AxesSubplot object at 0x7fa90cb57780>,\n",
       "        <matplotlib.axes._subplots.AxesSubplot object at 0x7fa90caffe10>,\n",
       "        <matplotlib.axes._subplots.AxesSubplot object at 0x7fa90cb304e0>]],\n",
       "      dtype=object)"
      ]
     },
     "execution_count": 11,
     "metadata": {},
     "output_type": "execute_result"
    },
    {
     "data": {
      "image/png": "[encoded data removed]",
      "text/plain": [
       "<Figure size 432x288 with 20 Axes>"
      ]
     },
     "metadata": {},
     "output_type": "display_data"
    }
   ],
   "source": [
    "pd.DataFrame(z_reps.detach().numpy()).hist()"
   ]
  },
  {
   "cell_type": "markdown",
   "metadata": {},
   "source": [
    "## WAE-GAN!"
   ]
  },
  {
   "cell_type": "code",
   "execution_count": 14,
   "metadata": {},
   "outputs": [],
   "source": [
    "# define the descriminator\n",
    "class Discriminator(nn.Module):\n",
    "    def __init__(self, args):\n",
    "        super(Discriminator, self).__init__()\n",
    "\n",
    "        self.dim_h = args['dim_h']\n",
    "        self.n_z = args['n_z']\n",
    "\n",
    "        # main body of discriminator, returns [0,1]\n",
    "        self.main = nn.Sequential(\n",
    "            nn.Linear(self.n_z, self.dim_h * 4),\n",
    "            nn.ReLU(True),\n",
    "            nn.Linear(self.dim_h * 4, self.dim_h * 4),\n",
    "            nn.ReLU(True),\n",
    "            nn.Linear(self.dim_h * 4, self.dim_h * 4),\n",
    "            nn.ReLU(True),\n",
    "            nn.Linear(self.dim_h * 4, self.dim_h * 4),\n",
    "            nn.ReLU(True),\n",
    "            nn.Linear(self.dim_h * 4, 1),\n",
    "            nn.Sigmoid()\n",
    "        )\n",
    "\n",
    "    def forward(self, x):\n",
    "        x = self.main(x)\n",
    "        return x\n",
    "    \n",
    "# control which parameters are frozen / free for optimization\n",
    "def free_params(module: nn.Module):\n",
    "    for p in module.parameters():\n",
    "        p.requires_grad = True\n",
    "\n",
    "def frozen_params(module: nn.Module):\n",
    "    for p in module.parameters():\n",
    "        p.requires_grad = False"
   ]
  },
  {
   "cell_type": "code",
   "execution_count": 15,
   "metadata": {},
   "outputs": [],
   "source": [
    "# instantiate discriminator model, and restart encoder and decoder, for fairness. Set to train mode, etc\n",
    "encoder, decoder, discriminator = Encoder(args), Decoder(args), Discriminator(args)\n",
    "\n",
    "enc_optim = torch.optim.Adam(encoder.parameters(), lr = args['lr'])\n",
    "dec_optim = torch.optim.Adam(decoder.parameters(), lr = args['lr'])\n",
    "dis_optim = torch.optim.Adam(discriminator.parameters(), lr = args['lr'])\n",
    "\n",
    "enc_scheduler = torch.optim.lr_scheduler.StepLR(enc_optim, step_size=30, gamma=0.5)\n",
    "dec_scheduler = torch.optim.lr_scheduler.StepLR(dec_optim, step_size=30, gamma=0.5)\n",
    "dis_scheduler = torch.optim.lr_scheduler.StepLR(dis_optim, step_size=30, gamma=0.5)"
   ]
  },
  {
   "cell_type": "code",
   "execution_count": null,
   "metadata": {},
   "outputs": [],
   "source": [
    "# one and -one allow us to control descending / ascending gradient descent\n",
    "one = torch.Tensor([1])\n",
    "\n",
    "log = {\n",
    "    'd_z_loss': [],\n",
    "    'd_z_hat_loss': [],\n",
    "    'd_loss': [],\n",
    "    'train_recon_loss': []\n",
    "}\n",
    "\n",
    "for epoch in range(args['epochs']):\n",
    "    \n",
    "    # train for one epoch -- set nets to train mode\n",
    "    encoder.train()\n",
    "    decoder.train()\n",
    "    discriminator.train()\n",
    "    \n",
    "    for images, _ in tqdm(train_loader):\n",
    "        # zero gradients for each batch\n",
    "        encoder.zero_grad()\n",
    "        decoder.zero_grad()\n",
    "        discriminator.zero_grad()\n",
    "\n",
    "        # ======== Train Discriminator ======== #\n",
    "        \n",
    "        # freeze auto encoder params\n",
    "        frozen_params(decoder)\n",
    "        frozen_params(encoder)\n",
    "        \n",
    "        # free discriminator params\n",
    "        free_params(discriminator)\n",
    "\n",
    "        # run discriminator against randn draws\n",
    "        z = torch.randn(images.size()[0], args['n_z']) * args['sigma']\n",
    "        d_z = discriminator(z)\n",
    "\n",
    "        # run discriminator against encoder z's\n",
    "        z_hat = encoder(images)\n",
    "        d_z_hat = discriminator(z_hat)\n",
    "\n",
    "        # formula for ascending the descriminator -- -one reverses the direction of the gradient.\n",
    "        d_z_loss = torch.log(d_z).mean()\n",
    "        \n",
    "        d_z_hat_loss = torch.log(1 - d_z_hat).mean()\n",
    "        \n",
    "        d_z_loss.backward(-one)\n",
    "        d_z_hat_loss.backward(-one)\n",
    "\n",
    "        dis_optim.step()\n",
    "\n",
    "        # ======== Train Generator ======== #\n",
    "\n",
    "        # flip which networks are frozen, which are not\n",
    "        free_params(decoder)\n",
    "        free_params(encoder)\n",
    "        frozen_params(discriminator)\n",
    "\n",
    "        batch_size = images.size()[0]\n",
    "\n",
    "        # run images\n",
    "        z_hat = encoder(images)\n",
    "        x_hat = decoder(z_hat)\n",
    "        \n",
    "        # discriminate latents\n",
    "        d_z_hat = discriminator(encoder(Variable(images.data)))\n",
    "\n",
    "        # calculate reconstruction loss\n",
    "        train_recon_loss = criterion(x_hat, images)\n",
    "        \n",
    "        # calculate discriminator loss\n",
    "        d_loss = args['lambda'] * (torch.log(d_z_hat)).mean()\n",
    "\n",
    "        train_recon_loss.backward(one)\n",
    "        d_loss.backward(-one)\n",
    "\n",
    "        enc_optim.step()\n",
    "        dec_optim.step()\n",
    "\n",
    "        # capture losses of interest\n",
    "        log['d_z_loss'].append(d_z_loss.data.item())\n",
    "        log['d_z_hat_loss'].append(d_z_hat_loss.data.item())\n",
    "        log['d_loss'].append(d_loss.data.item())\n",
    "        log['train_recon_loss'].append(train_recon_loss.data.item())\n",
    "    \n",
    "    # test on test set\n",
    "    encoder.eval()\n",
    "    decoder.eval()\n",
    "    for images, _ in tqdm(test_loader):\n",
    "        z_hat = encoder(images)\n",
    "        x_hat = decoder(z_hat)\n",
    "        test_recon_loss = criterion(x_hat, images)\n",
    "    \n",
    "    save_path = './save/WAEgan_{}-epoch_{}.pth'\n",
    "    torch.save(encoder.state_dict(), save_path.format('encoder', epoch))\n",
    "    torch.save(decoder.state_dict(), save_path.format('decoder', epoch))\n",
    "    torch.save(discriminator.state_dict(), save_path.format('discriminator', epoch))\n",
    "    \n",
    "    # print stats after each epoch\n",
    "    print(\"Epoch: [{}/{}], \\tTrain Reconstruction Loss: {} d loss: {}, \\n\\t\\t\\tTest Reconstruction Loss:{}\".format(\n",
    "        epoch + 1, \n",
    "        args['epochs'], \n",
    "        train_recon_loss.data.item(),\n",
    "        d_loss.data.item(),\n",
    "        test_recon_loss.data.item()\n",
    "    ))"
   ]
  },
  {
   "cell_type": "code",
   "execution_count": 129,
   "metadata": {},
   "outputs": [
    {
     "data": {
      "text/plain": [
       "<matplotlib.image.AxesImage at 0x7fa8ea0c4470>"
      ]
     },
     "execution_count": 129,
     "metadata": {},
     "output_type": "execute_result"
    },
    {
     "data": {
      "image/png": "[encoded data removed]",
      "text/plain": [
       "<Figure size 432x288 with 1 Axes>"
      ]
     },
     "metadata": {},
     "output_type": "display_data"
    }
   ],
   "source": [
    "# look at an original image\n",
    "plt.imshow(images[0,0].numpy())"
   ]
  },
  {
   "cell_type": "code",
   "execution_count": 130,
   "metadata": {},
   "outputs": [
    {
     "data": {
      "text/plain": [
       "<matplotlib.image.AxesImage at 0x7fa8e84e3048>"
      ]
     },
     "execution_count": 130,
     "metadata": {},
     "output_type": "execute_result"
    },
    {
     "data": {
      "image/png": "[encoded data removed]",
      "text/plain": [
       "<Figure size 432x288 with 1 Axes>"
      ]
     },
     "metadata": {},
     "output_type": "display_data"
    }
   ],
   "source": [
    "# run same image through autoencoder and take a peak\n",
    "z_reps = encoder(images)\n",
    "decoded_images = decoder(z_reps)\n",
    "\n",
    "plt.imshow(decoded_images[0,0].detach().numpy())"
   ]
  },
  {
   "cell_type": "code",
   "execution_count": 124,
   "metadata": {},
   "outputs": [
    {
     "data": {
      "text/plain": [
       "<matplotlib.image.AxesImage at 0x7fa8e9f6bf60>"
      ]
     },
     "execution_count": 124,
     "metadata": {},
     "output_type": "execute_result"
    },
    {
     "data": {
      "image/png": "[encoded data removed]",
      "text/plain": [
       "<Figure size 432x288 with 1 Axes>"
      ]
     },
     "metadata": {},
     "output_type": "display_data"
    }
   ],
   "source": [
    "# try a random sample of the latent space\n",
    "rand_z_reps = torch.randn_like(z_reps)\n",
    "rand_decoded_images = decoder(rand_z_reps)\n",
    "\n",
    "plt.imshow(rand_decoded_images[0,0].detach().numpy())"
   ]
  },
  {
   "cell_type": "code",
   "execution_count": 126,
   "metadata": {},
   "outputs": [
    {
     "data": {
      "text/plain": [
       "array([[<matplotlib.axes._subplots.AxesSubplot object at 0x7fa8e8b20f28>,\n",
       "        <matplotlib.axes._subplots.AxesSubplot object at 0x7fa8e8a68f28>,\n",
       "        <matplotlib.axes._subplots.AxesSubplot object at 0x7fa8e8a0a5f8>],\n",
       "       [<matplotlib.axes._subplots.AxesSubplot object at 0x7fa8e8a31c88>,\n",
       "        <matplotlib.axes._subplots.AxesSubplot object at 0x7fa8e89e2358>,\n",
       "        <matplotlib.axes._subplots.AxesSubplot object at 0x7fa8e89e2390>],\n",
       "       [<matplotlib.axes._subplots.AxesSubplot object at 0x7fa8e893d0b8>,\n",
       "        <matplotlib.axes._subplots.AxesSubplot object at 0x7fa8e8963748>,\n",
       "        <matplotlib.axes._subplots.AxesSubplot object at 0x7fa8e890ddd8>],\n",
       "       [<matplotlib.axes._subplots.AxesSubplot object at 0x7fa8e88bf4a8>,\n",
       "        <matplotlib.axes._subplots.AxesSubplot object at 0x7fa8e88e6b38>,\n",
       "        <matplotlib.axes._subplots.AxesSubplot object at 0x7fa8e8897208>]],\n",
       "      dtype=object)"
      ]
     },
     "execution_count": 126,
     "metadata": {},
     "output_type": "execute_result"
    },
    {
     "data": {
      "image/png": "[encoded data removed]",
      "text/plain": [
       "<Figure size 432x288 with 12 Axes>"
      ]
     },
     "metadata": {},
     "output_type": "display_data"
    }
   ],
   "source": [
    "fake_z_reps = torch.randn_like(z_reps)\n",
    "pd.DataFrame(fake_z_reps.numpy()).hist()"
   ]
  },
  {
   "cell_type": "code",
   "execution_count": 75,
   "metadata": {},
   "outputs": [
    {
     "data": {
      "text/plain": [
       "Text(0.5,1,'lambda = 1')"
      ]
     },
     "execution_count": 75,
     "metadata": {},
     "output_type": "execute_result"
    },
    {
     "data": {
      "image/png": "[encoded data removed]",
      "text/plain": [
       "<Figure size 432x288 with 1 Axes>"
      ]
     },
     "metadata": {},
     "output_type": "display_data"
    }
   ],
   "source": [
    "l1 = pd.DataFrame.from_dict(log)\n",
    "ax = l1.plot()\n",
    "ax.set_title('lambda = 1')"
   ]
  },
  {
   "cell_type": "code",
   "execution_count": null,
   "metadata": {},
   "outputs": [],
   "source": [
    "df = pd.DataFrame.from_dict(log)\n",
    "df.to_csv('wae_gan.log')"
   ]
  }
 ],
 "metadata": {
  "kernelspec": {
   "display_name": "torch",
   "language": "python",
   "name": "torch"
  },
  "language_info": {
   "codemirror_mode": {
    "name": "ipython",
    "version": 3
   },
   "file_extension": ".py",
   "mimetype": "text/x-python",
   "name": "python",
   "nbconvert_exporter": "python",
   "pygments_lexer": "ipython3",
   "version": "3.6.5"
  }
 },
 "nbformat": 4,
 "nbformat_minor": 2
}
