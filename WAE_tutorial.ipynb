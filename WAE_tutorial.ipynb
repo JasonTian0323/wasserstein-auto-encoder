{
 "cells": [
  {
   "cell_type": "code",
   "execution_count": 1,
   "metadata": {},
   "outputs": [],
   "source": [
    "import torch\n",
    "import torch.nn as nn\n",
    "from torch.utils.data import DataLoader\n",
    "from torchvision import datasets, transforms\n",
    "from tqdm import tqdm\n",
    "import matplotlib.pyplot as plt"
   ]
  },
  {
   "cell_type": "code",
   "execution_count": 2,
   "metadata": {},
   "outputs": [],
   "source": [
    "args = {}\n",
    "args['dim_h'] = 10            # factor controlling size of hidden layers\n",
    "args['n_channel'] = 1         # number of channels in the input data (MNIST is 1, aka greyscale)\n",
    "args['n_z'] = 5               # number of dimensions in latent space. -- might need to bump this up? not sure what's common for MNIST\n",
    "args['sigma'] = 1.0           # variance in n_z\n",
    "args['lambda'] = 10           # hyper param for weight of discriminator loss\n",
    "args['lr'] = 0.0001           # learning rate for Adam optimizer\n",
    "args['epochs'] = 10           # how many epochs to run for\n",
    "args['batch_size'] = 256      # batch size for SGD"
   ]
  },
  {
   "cell_type": "code",
   "execution_count": 3,
   "metadata": {},
   "outputs": [
    {
     "name": "stdout",
     "output_type": "stream",
     "text": [
      "Downloading http://yann.lecun.com/exdb/mnist/train-images-idx3-ubyte.gz\n",
      "Downloading http://yann.lecun.com/exdb/mnist/train-labels-idx1-ubyte.gz\n",
      "Downloading http://yann.lecun.com/exdb/mnist/t10k-images-idx3-ubyte.gz\n",
      "Downloading http://yann.lecun.com/exdb/mnist/t10k-labels-idx1-ubyte.gz\n",
      "Processing...\n",
      "Done!\n"
     ]
    }
   ],
   "source": [
    "## load MNIST data train and test sets\n",
    "trainset = datasets.MNIST(\n",
    "    root='./data/',\n",
    "    train=True,\n",
    "    transform=transforms.ToTensor(),\n",
    "    download=True\n",
    ")\n",
    "\n",
    "testset = datasets.MNIST(\n",
    "    root='./data/',\n",
    "    train=False,\n",
    "    transform=transforms.ToTensor(),\n",
    "    download=True\n",
    ")\n",
    "\n",
    "train_loader = DataLoader(\n",
    "    dataset=trainset,\n",
    "    batch_size=args['batch_size'],\n",
    "    shuffle=True\n",
    ")\n",
    "\n",
    "test_loader = DataLoader(\n",
    "    dataset=testset,\n",
    "    batch_size=args['batch_size'],\n",
    "    shuffle=False\n",
    ")"
   ]
  },
  {
   "cell_type": "markdown",
   "metadata": {},
   "source": [
    "## Try out the vanilla autoencoder "
   ]
  },
  {
   "cell_type": "code",
   "execution_count": 4,
   "metadata": {},
   "outputs": [],
   "source": [
    "## create encoder model and decoder model\n",
    "class Encoder(nn.Module):\n",
    "    def __init__(self, args):\n",
    "        super(Encoder, self).__init__()\n",
    "\n",
    "        self.n_channel = args['n_channel']\n",
    "        self.dim_h = args['dim_h']\n",
    "        self.n_z = args['n_z']\n",
    "        \n",
    "        # convolutional filters, work excellent with image data\n",
    "        self.conv = nn.Sequential(\n",
    "            nn.Conv2d(self.n_channel, self.dim_h, 4, 2, 1, bias=False),\n",
    "            nn.ReLU(True),\n",
    "            nn.Conv2d(self.dim_h, self.dim_h * 2, 4, 2, 1, bias=False),\n",
    "            nn.BatchNorm2d(self.dim_h * 2),\n",
    "            nn.ReLU(True),\n",
    "            nn.Conv2d(self.dim_h * 2, self.dim_h * 4, 4, 2, 1, bias=False),\n",
    "            nn.BatchNorm2d(self.dim_h * 4),\n",
    "            nn.ReLU(True),\n",
    "            nn.Conv2d(self.dim_h * 4, self.dim_h * 8, 4, 2, 1, bias=False),\n",
    "            nn.BatchNorm2d(self.dim_h * 8),\n",
    "            nn.ReLU(True),\n",
    "        )\n",
    "        \n",
    "        # final layer is fully connected\n",
    "        self.fc = nn.Linear(self.dim_h * (2 ** 3), self.n_z)\n",
    "\n",
    "    def forward(self, x):\n",
    "        x = self.conv(x)\n",
    "        x = x.squeeze()\n",
    "        x = self.fc(x)\n",
    "        return x\n",
    "\n",
    "class Decoder(nn.Module):\n",
    "    def __init__(self, args):\n",
    "        super(Decoder, self).__init__()\n",
    "\n",
    "        self.n_channel = args['n_channel']\n",
    "        self.dim_h = args['dim_h']\n",
    "        self.n_z = args['n_z']\n",
    "\n",
    "        # first layer is fully connected\n",
    "        self.fc = nn.Sequential(\n",
    "            nn.Linear(self.n_z, self.dim_h * 8 * 7 * 7),\n",
    "            nn.ReLU()\n",
    "        )\n",
    "\n",
    "        # deconvolutional filters, essentially the inverse of convolutional filters\n",
    "        self.deconv = nn.Sequential(\n",
    "            nn.ConvTranspose2d(self.dim_h * 8, self.dim_h * 4, 4),\n",
    "            nn.BatchNorm2d(self.dim_h * 4),\n",
    "            nn.ReLU(True),\n",
    "            nn.ConvTranspose2d(self.dim_h * 4, self.dim_h * 2, 4),\n",
    "            nn.BatchNorm2d(self.dim_h * 2),\n",
    "            nn.ReLU(True),\n",
    "            nn.ConvTranspose2d(self.dim_h * 2, 1, 4, stride=2),\n",
    "            nn.Sigmoid()\n",
    "        )\n",
    "\n",
    "    def forward(self, x):\n",
    "        x = self.fc(x)\n",
    "        x = x.view(-1, self.dim_h * 8, 7, 7)\n",
    "        x = self.deconv(x)\n",
    "        return x"
   ]
  },
  {
   "cell_type": "code",
   "execution_count": 5,
   "metadata": {},
   "outputs": [],
   "source": [
    "# instantiate models, and set to train mode\n",
    "encoder, decoder = Encoder(args), Decoder(args)\n",
    "encoder.train()\n",
    "decoder.train()\n",
    "\n",
    "# specify loss (mean squared error of image reconstruction)\n",
    "criterion = nn.MSELoss()\n",
    "\n",
    "# use the Adam optimizer, it's always a good choice\n",
    "enc_optim = torch.optim.Adam(encoder.parameters(), lr = args['lr'])\n",
    "dec_optim = torch.optim.Adam(decoder.parameters(), lr = args['lr'])"
   ]
  },
  {
   "cell_type": "code",
   "execution_count": 6,
   "metadata": {},
   "outputs": [
    {
     "name": "stderr",
     "output_type": "stream",
     "text": [
      " 42%|████▏     | 99/235 [00:36<00:48,  2.81it/s]"
     ]
    },
    {
     "name": "stdout",
     "output_type": "stream",
     "text": [
      "Epoch: [1/5], Step: [100/235], Reconstruction Loss: 0.2040\n"
     ]
    },
    {
     "name": "stderr",
     "output_type": "stream",
     "text": [
      " 85%|████████▍ | 199/235 [01:12<00:12,  2.85it/s]"
     ]
    },
    {
     "name": "stdout",
     "output_type": "stream",
     "text": [
      "Epoch: [1/5], Step: [200/235], Reconstruction Loss: 0.1672\n"
     ]
    },
    {
     "name": "stderr",
     "output_type": "stream",
     "text": [
      "100%|██████████| 235/235 [01:25<00:00,  2.85it/s]\n",
      " 42%|████▏     | 99/235 [00:34<00:46,  2.93it/s]"
     ]
    },
    {
     "name": "stdout",
     "output_type": "stream",
     "text": [
      "Epoch: [2/5], Step: [100/235], Reconstruction Loss: 0.1276\n"
     ]
    },
    {
     "name": "stderr",
     "output_type": "stream",
     "text": [
      " 85%|████████▍ | 199/235 [01:09<00:11,  3.08it/s]"
     ]
    },
    {
     "name": "stdout",
     "output_type": "stream",
     "text": [
      "Epoch: [2/5], Step: [200/235], Reconstruction Loss: 0.1054\n"
     ]
    },
    {
     "name": "stderr",
     "output_type": "stream",
     "text": [
      "100%|██████████| 235/235 [01:22<00:00,  3.31it/s]\n",
      " 42%|████▏     | 99/235 [00:33<00:48,  2.80it/s]"
     ]
    },
    {
     "name": "stdout",
     "output_type": "stream",
     "text": [
      "Epoch: [3/5], Step: [100/235], Reconstruction Loss: 0.0842\n"
     ]
    },
    {
     "name": "stderr",
     "output_type": "stream",
     "text": [
      " 85%|████████▍ | 199/235 [01:12<00:13,  2.74it/s]"
     ]
    },
    {
     "name": "stdout",
     "output_type": "stream",
     "text": [
      "Epoch: [3/5], Step: [200/235], Reconstruction Loss: 0.0731\n"
     ]
    },
    {
     "name": "stderr",
     "output_type": "stream",
     "text": [
      "100%|██████████| 235/235 [01:26<00:00,  2.83it/s]\n",
      " 42%|████▏     | 99/235 [00:36<00:42,  3.22it/s]"
     ]
    },
    {
     "name": "stdout",
     "output_type": "stream",
     "text": [
      "Epoch: [4/5], Step: [100/235], Reconstruction Loss: 0.0621\n"
     ]
    },
    {
     "name": "stderr",
     "output_type": "stream",
     "text": [
      " 85%|████████▍ | 199/235 [01:07<00:12,  2.87it/s]"
     ]
    },
    {
     "name": "stdout",
     "output_type": "stream",
     "text": [
      "Epoch: [4/5], Step: [200/235], Reconstruction Loss: 0.0583\n"
     ]
    },
    {
     "name": "stderr",
     "output_type": "stream",
     "text": [
      "100%|██████████| 235/235 [01:20<00:00,  3.80it/s]\n",
      " 42%|████▏     | 99/235 [00:36<00:51,  2.66it/s]"
     ]
    },
    {
     "name": "stdout",
     "output_type": "stream",
     "text": [
      "Epoch: [5/5], Step: [100/235], Reconstruction Loss: 0.0525\n"
     ]
    },
    {
     "name": "stderr",
     "output_type": "stream",
     "text": [
      " 85%|████████▍ | 199/235 [01:13<00:11,  3.15it/s]"
     ]
    },
    {
     "name": "stdout",
     "output_type": "stream",
     "text": [
      "Epoch: [5/5], Step: [200/235], Reconstruction Loss: 0.0485\n"
     ]
    },
    {
     "name": "stderr",
     "output_type": "stream",
     "text": [
      "100%|██████████| 235/235 [01:25<00:00,  3.64it/s]\n"
     ]
    }
   ],
   "source": [
    "for epoch in range(args['epochs']):\n",
    "    step = 0\n",
    "\n",
    "    for images, _ in tqdm(train_loader):\n",
    "        encoder.zero_grad()\n",
    "        decoder.zero_grad()\n",
    "        batch_size = images.size()[0]\n",
    "\n",
    "        z_real = encoder(images)\n",
    "        x_recon = decoder(z_real)\n",
    "        recon_loss = criterion(x_recon, images)\n",
    "\n",
    "        recon_loss.backward()\n",
    "        \n",
    "        enc_optim.step()\n",
    "        dec_optim.step()\n",
    "        \n",
    "        step += 1\n",
    "\n",
    "        if (step + 1) % 100 == 0:\n",
    "            print(\"Epoch: [%d/%d], Step: [%d/%d], Reconstruction Loss: %.4f\" %\n",
    "                  (epoch + 1, args['epochs'], step + 1, len(train_loader), recon_loss.data.item()))\n",
    "            "
   ]
  },
  {
   "cell_type": "markdown",
   "metadata": {},
   "source": [
    "## Let's look at some images"
   ]
  },
  {
   "cell_type": "code",
   "execution_count": 9,
   "metadata": {},
   "outputs": [
    {
     "data": {
      "text/plain": [
       "<matplotlib.image.AxesImage at 0x7fb43648a630>"
      ]
     },
     "execution_count": 9,
     "metadata": {},
     "output_type": "execute_result"
    },
    {
     "data": {
      "image/png": "[encoded data removed]",
      "text/plain": [
       "<Figure size 432x288 with 1 Axes>"
      ]
     },
     "metadata": {},
     "output_type": "display_data"
    }
   ],
   "source": [
    "# look at an original image\n",
    "plt.imshow(images[2,0].numpy())"
   ]
  },
  {
   "cell_type": "code",
   "execution_count": 10,
   "metadata": {},
   "outputs": [
    {
     "data": {
      "text/plain": [
       "<matplotlib.image.AxesImage at 0x7fb436461908>"
      ]
     },
     "execution_count": 10,
     "metadata": {},
     "output_type": "execute_result"
    },
    {
     "data": {
      "image/png": "[encoded data removed]",
      "text/plain": [
       "<Figure size 432x288 with 1 Axes>"
      ]
     },
     "metadata": {},
     "output_type": "display_data"
    }
   ],
   "source": [
    "# run same image through autoencoder and take a peak\n",
    "z_reps = encoder(images)\n",
    "decoded_images = decoder(z_reps)\n",
    "\n",
    "plt.imshow(decoded_images[2,0].detach().numpy())"
   ]
  },
  {
   "cell_type": "code",
   "execution_count": 11,
   "metadata": {},
   "outputs": [
    {
     "data": {
      "text/plain": [
       "<matplotlib.image.AxesImage at 0x7fb436438908>"
      ]
     },
     "execution_count": 11,
     "metadata": {},
     "output_type": "execute_result"
    },
    {
     "data": {
      "image/png": "[encoded data removed]",
      "text/plain": [
       "<Figure size 432x288 with 1 Axes>"
      ]
     },
     "metadata": {},
     "output_type": "display_data"
    }
   ],
   "source": [
    "# try a random sample of the latent space\n",
    "rand_z_reps = torch.randn_like(z_reps)\n",
    "rand_decoded_images = decoder(rand_z_reps)\n",
    "\n",
    "plt.imshow(rand_decoded_images[2,0].detach().numpy())"
   ]
  },
  {
   "cell_type": "markdown",
   "metadata": {},
   "source": [
    "## WAE-GAN!"
   ]
  },
  {
   "cell_type": "code",
   "execution_count": 13,
   "metadata": {},
   "outputs": [],
   "source": [
    "# define the descriminator\n",
    "class Discriminator(nn.Module):\n",
    "    def __init__(self, args):\n",
    "        super(Discriminator, self).__init__()\n",
    "\n",
    "        self.n_channel = args['n_channel']\n",
    "        self.dim_h = args['dim_h']\n",
    "        self.n_z = args['n_z']\n",
    "\n",
    "        # main body of discriminator, returns [0,1]\n",
    "        self.main = nn.Sequential(\n",
    "            nn.Linear(self.n_z, self.dim_h * 4),\n",
    "            nn.ReLU(True),\n",
    "            nn.Linear(self.dim_h * 4, self.dim_h * 4),\n",
    "            nn.ReLU(True),\n",
    "            nn.Linear(self.dim_h * 4, self.dim_h * 4),\n",
    "            nn.ReLU(True),\n",
    "            nn.Linear(self.dim_h * 4, self.dim_h * 4),\n",
    "            nn.ReLU(True),\n",
    "            nn.Linear(self.dim_h * 4, 1),\n",
    "            nn.Sigmoid()\n",
    "        )\n",
    "\n",
    "    def forward(self, x):\n",
    "        x = self.main(x)\n",
    "        return x\n",
    "    \n",
    "# control which parameters are frozen / free for optimization\n",
    "def free_params(module: nn.Module):\n",
    "    for p in module.parameters():\n",
    "        p.requires_grad = True\n",
    "\n",
    "def frozen_params(module: nn.Module):\n",
    "    for p in module.parameters():\n",
    "        p.requires_grad = False"
   ]
  },
  {
   "cell_type": "code",
   "execution_count": 14,
   "metadata": {},
   "outputs": [],
   "source": [
    "# instantiate discriminator model, and restart encoder and decoder, for fairness. Set to train mode, etc\n",
    "encoder, decoder, discriminator = Encoder(args), Decoder(args), Discriminator(args)\n",
    "encoder.train()\n",
    "decoder.train()\n",
    "discriminator.train()\n",
    "\n",
    "enc_optim = torch.optim.Adam(encoder.parameters(), lr = args['lr'])\n",
    "dec_optim = torch.optim.Adam(decoder.parameters(), lr = args['lr'])\n",
    "dis_optim = torch.optim.Adam(discriminator.parameters(), lr = args['lr'])"
   ]
  },
  {
   "cell_type": "code",
   "execution_count": null,
   "metadata": {},
   "outputs": [],
   "source": [
    "one = torch.Tensor([1])\n",
    "\n",
    "for epoch in range(args['epochs']):\n",
    "    step = 0\n",
    "\n",
    "    for images, _ in tqdm(train_loader):\n",
    "        encoder.zero_grad()\n",
    "        decoder.zero_grad()\n",
    "        discriminator.zero_grad()\n",
    "\n",
    "        # ======== Train Discriminator ======== #\n",
    "        \n",
    "        # freeze auto encoder params\n",
    "        frozen_params(decoder)\n",
    "        frozen_params(encoder)\n",
    "        \n",
    "        # free discriminator params\n",
    "        free_params(discriminator)\n",
    "\n",
    "        # run discriminator against randn draws\n",
    "        z_fake = torch.randn(images.size()[0], args['n_z']) * args['sigma']\n",
    "        d_fake = discriminator(z_fake)\n",
    "\n",
    "        # run discriminator against encoder z's\n",
    "        z_real = encoder(images)\n",
    "        d_real = discriminator(z_real)\n",
    "\n",
    "        # formula for ascending the descriminator -- -one reverses the direction of the gradient.\n",
    "        torch.log(d_fake).mean().backward(-one)\n",
    "        torch.log(1 - d_real).mean().backward(-one)\n",
    "\n",
    "        dis_optim.step()\n",
    "\n",
    "        # ======== Train Generator ======== #\n",
    "\n",
    "        # flip whose frozen, whose not\n",
    "        free_params(decoder)\n",
    "        free_params(encoder)\n",
    "        frozen_params(discriminator)\n",
    "\n",
    "        batch_size = images.size()[0]\n",
    "\n",
    "        # run images\n",
    "        z_real = encoder(images)\n",
    "        x_recon = decoder(z_real)\n",
    "        \n",
    "        # discriminate latents\n",
    "        d_real = discriminator(encoder(images.data))\n",
    "\n",
    "        # calculate reconstruction loss\n",
    "        recon_loss = criterion(x_recon, images)\n",
    "        \n",
    "        # calculate discriminator loss\n",
    "        d_loss = args['lambda'] * (torch.log(d_real)).mean()\n",
    "\n",
    "        recon_loss.backward(one)\n",
    "        d_loss.backward(-one)\n",
    "\n",
    "        enc_optim.step()\n",
    "        dec_optim.step()\n",
    "\n",
    "        step += 1\n",
    "\n",
    "        if (step + 1) % 100 == 0:\n",
    "            print(\"Epoch: [%d/%d], Step: [%d/%d], Reconstruction Loss: %.4f\" %\n",
    "                (epoch + 1, args['epochs'], step + 1, len(train_loader), recon_loss.data.item()))"
   ]
  },
  {
   "cell_type": "code",
   "execution_count": 88,
   "metadata": {},
   "outputs": [
    {
     "data": {
      "text/plain": [
       "<matplotlib.image.AxesImage at 0x7f8d7fc3a390>"
      ]
     },
     "execution_count": 88,
     "metadata": {},
     "output_type": "execute_result"
    },
    {
     "data": {
      "image/png": "[encoded data removed]",
      "text/plain": [
       "<Figure size 432x288 with 1 Axes>"
      ]
     },
     "metadata": {},
     "output_type": "display_data"
    }
   ],
   "source": [
    "# look at an original image\n",
    "plt.imshow(images[0,0].numpy())"
   ]
  },
  {
   "cell_type": "code",
   "execution_count": 89,
   "metadata": {},
   "outputs": [
    {
     "data": {
      "text/plain": [
       "<matplotlib.image.AxesImage at 0x7f8d7fac5eb8>"
      ]
     },
     "execution_count": 89,
     "metadata": {},
     "output_type": "execute_result"
    },
    {
     "data": {
      "image/png": "[encoded data removed]",
      "text/plain": [
       "<Figure size 432x288 with 1 Axes>"
      ]
     },
     "metadata": {},
     "output_type": "display_data"
    }
   ],
   "source": [
    "# run same image through autoencoder and take a peak\n",
    "z_reps = encoder(images)\n",
    "decoded_images = decoder(z_reps)\n",
    "\n",
    "plt.imshow(decoded_images[0,0].detach().numpy())"
   ]
  },
  {
   "cell_type": "code",
   "execution_count": 95,
   "metadata": {},
   "outputs": [
    {
     "data": {
      "text/plain": [
       "<matplotlib.image.AxesImage at 0x7f8d7f997dd8>"
      ]
     },
     "execution_count": 95,
     "metadata": {},
     "output_type": "execute_result"
    },
    {
     "data": {
      "image/png": "[encoded data removed]",
      "text/plain": [
       "<Figure size 432x288 with 1 Axes>"
      ]
     },
     "metadata": {},
     "output_type": "display_data"
    }
   ],
   "source": [
    "# try a random sample of the latent space\n",
    "rand_z_reps = torch.randn_like(z_reps)\n",
    "rand_decoded_images = decoder(rand_z_reps)\n",
    "\n",
    "plt.imshow(rand_decoded_images[0,0].detach().numpy())"
   ]
  }
 ],
 "metadata": {
  "kernelspec": {
   "display_name": "torch",
   "language": "python",
   "name": "torch"
  },
  "language_info": {
   "codemirror_mode": {
    "name": "ipython",
    "version": 3
   },
   "file_extension": ".py",
   "mimetype": "text/x-python",
   "name": "python",
   "nbconvert_exporter": "python",
   "pygments_lexer": "ipython3",
   "version": "3.6.5"
  }
 },
 "nbformat": 4,
 "nbformat_minor": 2
}
