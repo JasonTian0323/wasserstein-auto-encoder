{
 "cells": [
  {
   "cell_type": "code",
   "execution_count": 1,
   "metadata": {},
   "outputs": [],
   "source": [
    "import torch\n",
    "import torch.nn as nn\n",
    "from torch.autograd import Variable\n",
    "from torch.utils.data import DataLoader\n",
    "from torchvision import datasets, transforms\n",
    "from tqdm import tqdm\n",
    "import numpy as np\n",
    "import pandas as pd\n",
    "import matplotlib.pyplot as plt\n",
    "import seaborn as sns"
   ]
  },
  {
   "cell_type": "code",
   "execution_count": 2,
   "metadata": {},
   "outputs": [],
   "source": [
    "args = {}\n",
    "args['dim_h'] = 40            # factor controlling size of hidden layers\n",
    "args['n_channel'] = 1         # number of channels in the input data (MNIST is 1, aka greyscale)\n",
    "args['n_z'] = 20              # number of dimensions in latent space. \n",
    "args['sigma'] = 1.0           # variance in n_z\n",
    "args['lambda'] = 10           # hyper param for weight of discriminator loss\n",
    "args['lr'] = 0.0002           # learning rate for Adam optimizer\n",
    "args['epochs'] = 5            # how many epochs to run for\n",
    "args['batch_size'] = 256      # batch size for SGD\n",
    "args['save'] = False          # save weights at each epoch of training if True\n",
    "args['train'] = False         # train networks if True, else load networks from saved weights"
   ]
  },
  {
   "cell_type": "code",
   "execution_count": 3,
   "metadata": {},
   "outputs": [],
   "source": [
    "## load MNIST data train and test sets\n",
    "trainset = datasets.MNIST(\n",
    "    root='./data/',\n",
    "    train=True,\n",
    "    transform=transforms.ToTensor(),\n",
    "    download=True\n",
    ")\n",
    "\n",
    "testset = datasets.MNIST(\n",
    "    root='./data/',\n",
    "    train=False,\n",
    "    transform=transforms.ToTensor(),\n",
    "    download=True\n",
    ")\n",
    "\n",
    "train_loader = DataLoader(\n",
    "    dataset=trainset,\n",
    "    batch_size=args['batch_size'],\n",
    "    shuffle=True\n",
    ")\n",
    "\n",
    "test_loader = DataLoader(\n",
    "    dataset=testset,\n",
    "    batch_size=args['batch_size'],\n",
    "    shuffle=False\n",
    ")"
   ]
  },
  {
   "cell_type": "markdown",
   "metadata": {},
   "source": [
    "## Try out the vanilla autoencoder "
   ]
  },
  {
   "cell_type": "code",
   "execution_count": 4,
   "metadata": {},
   "outputs": [],
   "source": [
    "## create encoder model and decoder model\n",
    "class Encoder(nn.Module):\n",
    "    def __init__(self, args):\n",
    "        super(Encoder, self).__init__()\n",
    "\n",
    "        self.n_channel = args['n_channel']\n",
    "        self.dim_h = args['dim_h']\n",
    "        self.n_z = args['n_z']\n",
    "        \n",
    "        # convolutional filters, work excellent with image data\n",
    "        self.conv = nn.Sequential(\n",
    "            nn.Conv2d(self.n_channel, self.dim_h, 4, 2, 1, bias=False),\n",
    "            nn.ReLU(True),\n",
    "            nn.Conv2d(self.dim_h, self.dim_h * 2, 4, 2, 1, bias=False),\n",
    "            nn.BatchNorm2d(self.dim_h * 2),\n",
    "            nn.ReLU(True),\n",
    "            nn.Conv2d(self.dim_h * 2, self.dim_h * 4, 4, 2, 1, bias=False),\n",
    "            nn.BatchNorm2d(self.dim_h * 4),\n",
    "            nn.ReLU(True),\n",
    "            nn.Conv2d(self.dim_h * 4, self.dim_h * 8, 4, 2, 1, bias=False),\n",
    "            nn.BatchNorm2d(self.dim_h * 8),\n",
    "            nn.ReLU(True),\n",
    "        )\n",
    "        \n",
    "        # final layer is fully connected\n",
    "        self.fc = nn.Linear(self.dim_h * (2 ** 3), self.n_z)\n",
    "\n",
    "    def forward(self, x):\n",
    "        x = self.conv(x)\n",
    "        x = x.squeeze()\n",
    "        x = self.fc(x)\n",
    "        return x\n",
    "\n",
    "class Decoder(nn.Module):\n",
    "    def __init__(self, args):\n",
    "        super(Decoder, self).__init__()\n",
    "\n",
    "        self.n_channel = args['n_channel']\n",
    "        self.dim_h = args['dim_h']\n",
    "        self.n_z = args['n_z']\n",
    "\n",
    "        # first layer is fully connected\n",
    "        self.fc = nn.Sequential(\n",
    "            nn.Linear(self.n_z, self.dim_h * 8 * 7 * 7),\n",
    "            nn.ReLU()\n",
    "        )\n",
    "\n",
    "        # deconvolutional filters, essentially the inverse of convolutional filters\n",
    "        self.deconv = nn.Sequential(\n",
    "            nn.ConvTranspose2d(self.dim_h * 8, self.dim_h * 4, 4),\n",
    "            nn.BatchNorm2d(self.dim_h * 4),\n",
    "            nn.ReLU(True),\n",
    "            nn.ConvTranspose2d(self.dim_h * 4, self.dim_h * 2, 4),\n",
    "            nn.BatchNorm2d(self.dim_h * 2),\n",
    "            nn.ReLU(True),\n",
    "            nn.ConvTranspose2d(self.dim_h * 2, 1, 4, stride=2),\n",
    "            nn.Sigmoid()\n",
    "        )\n",
    "\n",
    "    def forward(self, x):\n",
    "        x = self.fc(x)\n",
    "        x = x.view(-1, self.dim_h * 8, 7, 7)\n",
    "        x = self.deconv(x)\n",
    "        return x"
   ]
  },
  {
   "cell_type": "code",
   "execution_count": 5,
   "metadata": {},
   "outputs": [
    {
     "name": "stderr",
     "output_type": "stream",
     "text": [
      "  0%|          | 0/235 [00:00<?, ?it/s]\n"
     ]
    }
   ],
   "source": [
    "# instantiate models, and set to train mode\n",
    "encoder, decoder = Encoder(args), Decoder(args)\n",
    "\n",
    "if args['train']:\n",
    "    # specify loss (mean squared error of image reconstruction)\n",
    "    criterion = nn.MSELoss()\n",
    "\n",
    "    # use the Adam optimizer, it's always a good choice\n",
    "    enc_optim = torch.optim.Adam(encoder.parameters(), lr = args['lr'])\n",
    "    dec_optim = torch.optim.Adam(decoder.parameters(), lr = args['lr'])\n",
    "\n",
    "    enc_scheduler = torch.optim.lr_scheduler.StepLR(enc_optim, step_size=30, gamma=0.5)\n",
    "    dec_scheduler = torch.optim.lr_scheduler.StepLR(dec_optim, step_size=30, gamma=0.5)\n",
    "\n",
    "    for epoch in range(args['epochs']):\n",
    "        for images, _ in tqdm(train_loader):\n",
    "            encoder.train()\n",
    "            decoder.train()\n",
    "\n",
    "            encoder.zero_grad()\n",
    "            decoder.zero_grad()\n",
    "            batch_size = images.size()[0]\n",
    "\n",
    "            z_hat = encoder(images)\n",
    "            x_hat = decoder(z_hat)\n",
    "            train_recon_loss = criterion(x_hat, images)\n",
    "\n",
    "            train_recon_loss.backward()\n",
    "\n",
    "            enc_optim.step()\n",
    "            dec_optim.step()\n",
    "\n",
    "        # Run validation set\n",
    "        encoder.eval()\n",
    "        decoder.eval()\n",
    "        for images, _ in tqdm(test_loader):\n",
    "            z_hat = encoder(images)\n",
    "            x_hat = decoder(z_hat)\n",
    "            test_recon_loss = criterion(x_hat, images)\n",
    "\n",
    "        if args['save']:\n",
    "            save_path = './save/AE_{}-epoch_{}.pth'\n",
    "            torch.save(encoder.state_dict(), save_path.format('encoder', epoch))\n",
    "            torch.save(decoder.state_dict(), save_path.format('decoder', epoch))\n",
    "\n",
    "        print(\"Epoch: [{}/{}], \\tTrain Reconstruction Loss: {}\\n\\t\\t\\tTest Reconstruction Loss: {}\".format(\n",
    "            epoch + 1, \n",
    "            args['epochs'], \n",
    "            train_recon_loss.data.item(),\n",
    "            test_recon_loss.data.item()\n",
    "        ))\n",
    "else:\n",
    "    # load some images to place with\n",
    "    for images, _ in tqdm(train_loader):\n",
    "        break\n",
    "        \n",
    "    # load encoder and decoder weights from checkpoint\n",
    "    enc_checkpoint = torch.load('save/AE_encoder-best.pth')\n",
    "    encoder.load_state_dict(enc_checkpoint)\n",
    "\n",
    "    dec_checkpoint = torch.load('save/AE_decoder-best.pth')\n",
    "    decoder.load_state_dict(dec_checkpoint)"
   ]
  },
  {
   "cell_type": "markdown",
   "metadata": {},
   "source": [
    "## Let's look at some images"
   ]
  },
  {
   "cell_type": "code",
   "execution_count": 6,
   "metadata": {},
   "outputs": [
    {
     "data": {
      "text/plain": [
       "<matplotlib.image.AxesImage at 0x7f8045bf2be0>"
      ]
     },
     "execution_count": 6,
     "metadata": {},
     "output_type": "execute_result"
    },
    {
     "data": {
      "image/png": "[encoded data removed]",
      "text/plain": [
       "<Figure size 432x288 with 1 Axes>"
      ]
     },
     "metadata": {},
     "output_type": "display_data"
    }
   ],
   "source": [
    "# look at an original image\n",
    "plt.imshow(images[0,0].numpy())"
   ]
  },
  {
   "cell_type": "code",
   "execution_count": 7,
   "metadata": {},
   "outputs": [
    {
     "data": {
      "text/plain": [
       "<matplotlib.image.AxesImage at 0x7f8045d4f780>"
      ]
     },
     "execution_count": 7,
     "metadata": {},
     "output_type": "execute_result"
    },
    {
     "data": {
      "image/png": "[encoded data removed]",
      "text/plain": [
       "<Figure size 432x288 with 1 Axes>"
      ]
     },
     "metadata": {},
     "output_type": "display_data"
    }
   ],
   "source": [
    "# run same image through autoencoder and take a peak\n",
    "z_reps = encoder(images)\n",
    "decoded_images = decoder(z_reps)\n",
    "\n",
    "plt.imshow(decoded_images[0,0].detach().numpy())"
   ]
  },
  {
   "cell_type": "code",
   "execution_count": 8,
   "metadata": {},
   "outputs": [
    {
     "data": {
      "text/plain": [
       "<matplotlib.image.AxesImage at 0x7f8045cb2080>"
      ]
     },
     "execution_count": 8,
     "metadata": {},
     "output_type": "execute_result"
    },
    {
     "data": {
      "image/png": "[encoded data removed]",
      "text/plain": [
       "<Figure size 432x288 with 1 Axes>"
      ]
     },
     "metadata": {},
     "output_type": "display_data"
    }
   ],
   "source": [
    "# try a random sample of the latent space\n",
    "rand_z_reps = torch.randn_like(z_reps)\n",
    "rand_decoded_images = decoder(rand_z_reps)\n",
    "\n",
    "plt.imshow(rand_decoded_images[0,0].detach().numpy())"
   ]
  },
  {
   "cell_type": "code",
   "execution_count": 50,
   "metadata": {},
   "outputs": [
    {
     "data": {
      "text/plain": [
       "array([[<matplotlib.axes._subplots.AxesSubplot object at 0x7f72e36bf4a8>,\n",
       "        <matplotlib.axes._subplots.AxesSubplot object at 0x7f72e36687b8>,\n",
       "        <matplotlib.axes._subplots.AxesSubplot object at 0x7f72e3610e48>,\n",
       "        <matplotlib.axes._subplots.AxesSubplot object at 0x7f72e3642518>],\n",
       "       [<matplotlib.axes._subplots.AxesSubplot object at 0x7f72e35eaba8>,\n",
       "        <matplotlib.axes._subplots.AxesSubplot object at 0x7f72e35eabe0>,\n",
       "        <matplotlib.axes._subplots.AxesSubplot object at 0x7f72e35c2908>,\n",
       "        <matplotlib.axes._subplots.AxesSubplot object at 0x7f72e356bf98>],\n",
       "       [<matplotlib.axes._subplots.AxesSubplot object at 0x7f72e3519668>,\n",
       "        <matplotlib.axes._subplots.AxesSubplot object at 0x7f72e3542cf8>,\n",
       "        <matplotlib.axes._subplots.AxesSubplot object at 0x7f72e34f33c8>,\n",
       "        <matplotlib.axes._subplots.AxesSubplot object at 0x7f72e349aa58>],\n",
       "       [<matplotlib.axes._subplots.AxesSubplot object at 0x7f72e344c128>,\n",
       "        <matplotlib.axes._subplots.AxesSubplot object at 0x7f72e34727b8>,\n",
       "        <matplotlib.axes._subplots.AxesSubplot object at 0x7f72e341be48>,\n",
       "        <matplotlib.axes._subplots.AxesSubplot object at 0x7f72e33cb518>],\n",
       "       [<matplotlib.axes._subplots.AxesSubplot object at 0x7f72e33f3ba8>,\n",
       "        <matplotlib.axes._subplots.AxesSubplot object at 0x7f72e0279278>,\n",
       "        <matplotlib.axes._subplots.AxesSubplot object at 0x7f72e0221908>,\n",
       "        <matplotlib.axes._subplots.AxesSubplot object at 0x7f72e024af98>]],\n",
       "      dtype=object)"
      ]
     },
     "execution_count": 50,
     "metadata": {},
     "output_type": "execute_result"
    },
    {
     "data": {
      "image/png": "[encoded data removed]",
      "text/plain": [
       "<Figure size 432x288 with 20 Axes>"
      ]
     },
     "metadata": {},
     "output_type": "display_data"
    }
   ],
   "source": [
    "pd.DataFrame(z_reps.detach().numpy()).hist()"
   ]
  },
  {
   "cell_type": "markdown",
   "metadata": {},
   "source": [
    "## WAE-GAN!"
   ]
  },
  {
   "cell_type": "code",
   "execution_count": 10,
   "metadata": {},
   "outputs": [],
   "source": [
    "# define the descriminator\n",
    "class Discriminator(nn.Module):\n",
    "    def __init__(self, args):\n",
    "        super(Discriminator, self).__init__()\n",
    "\n",
    "        self.dim_h = args['dim_h']\n",
    "        self.n_z = args['n_z']\n",
    "\n",
    "        # main body of discriminator, returns [0,1]\n",
    "        self.main = nn.Sequential(\n",
    "            nn.Linear(self.n_z, self.dim_h * 4),\n",
    "            nn.ReLU(True),\n",
    "            nn.Linear(self.dim_h * 4, self.dim_h * 4),\n",
    "            nn.ReLU(True),\n",
    "            nn.Linear(self.dim_h * 4, self.dim_h * 4),\n",
    "            nn.ReLU(True),\n",
    "            nn.Linear(self.dim_h * 4, self.dim_h * 4),\n",
    "            nn.ReLU(True),\n",
    "            nn.Linear(self.dim_h * 4, 1),\n",
    "            nn.Sigmoid()\n",
    "        )\n",
    "\n",
    "    def forward(self, x):\n",
    "        x = self.main(x)\n",
    "        return x\n",
    "    \n",
    "# control which parameters are frozen / free for optimization\n",
    "def free_params(module: nn.Module):\n",
    "    for p in module.parameters():\n",
    "        p.requires_grad = True\n",
    "\n",
    "def frozen_params(module: nn.Module):\n",
    "    for p in module.parameters():\n",
    "        p.requires_grad = False"
   ]
  },
  {
   "cell_type": "code",
   "execution_count": 11,
   "metadata": {},
   "outputs": [
    {
     "name": "stderr",
     "output_type": "stream",
     "text": [
      "  0%|          | 0/235 [00:00<?, ?it/s]\n"
     ]
    }
   ],
   "source": [
    "# instantiate discriminator model, and restart encoder and decoder, for fairness. Set to train mode, etc\n",
    "encoder, decoder, discriminator = Encoder(args), Decoder(args), Discriminator(args)\n",
    "\n",
    "if args['train']:\n",
    "    enc_optim = torch.optim.Adam(encoder.parameters(), lr = args['lr'])\n",
    "    dec_optim = torch.optim.Adam(decoder.parameters(), lr = args['lr'])\n",
    "    dis_optim = torch.optim.Adam(discriminator.parameters(), lr = args['lr'])\n",
    "\n",
    "    enc_scheduler = torch.optim.lr_scheduler.StepLR(enc_optim, step_size=30, gamma=0.5)\n",
    "    dec_scheduler = torch.optim.lr_scheduler.StepLR(dec_optim, step_size=30, gamma=0.5)\n",
    "    dis_scheduler = torch.optim.lr_scheduler.StepLR(dis_optim, step_size=30, gamma=0.5)\n",
    "\n",
    "    # one and -one allow us to control descending / ascending gradient descent\n",
    "    one = torch.Tensor([1])\n",
    "\n",
    "    log = {\n",
    "        'd_z_loss': [],\n",
    "        'd_z_hat_loss': [],\n",
    "        'd_loss': [],\n",
    "        'train_recon_loss': []\n",
    "    }\n",
    "\n",
    "    for epoch in range(args['epochs']):\n",
    "\n",
    "        # train for one epoch -- set nets to train mode\n",
    "        encoder.train()\n",
    "        decoder.train()\n",
    "        discriminator.train()\n",
    "\n",
    "        for images, _ in tqdm(train_loader):\n",
    "            # zero gradients for each batch\n",
    "            encoder.zero_grad()\n",
    "            decoder.zero_grad()\n",
    "            discriminator.zero_grad()\n",
    "\n",
    "            # ======== Train Discriminator ======== #\n",
    "\n",
    "            # freeze auto encoder params\n",
    "            frozen_params(decoder)\n",
    "            frozen_params(encoder)\n",
    "\n",
    "            # free discriminator params\n",
    "            free_params(discriminator)\n",
    "\n",
    "            # run discriminator against randn draws\n",
    "            z = torch.randn(images.size()[0], args['n_z']) * args['sigma']\n",
    "            d_z = discriminator(z)\n",
    "\n",
    "            # run discriminator against encoder z's\n",
    "            z_hat = encoder(images)\n",
    "            d_z_hat = discriminator(z_hat)\n",
    "\n",
    "            # formula for ascending the descriminator -- -one reverses the direction of the gradient.\n",
    "            d_z_loss = args['lambda']*torch.log(d_z).mean()\n",
    "\n",
    "            d_z_hat_loss = args['lambda']*torch.log(1 - d_z_hat).mean()\n",
    "\n",
    "            d_z_loss.backward(-one)\n",
    "            d_z_hat_loss.backward(-one)\n",
    "\n",
    "            dis_optim.step()\n",
    "\n",
    "            # ======== Train Generator ======== #\n",
    "\n",
    "            # flip which networks are frozen, which are not\n",
    "            free_params(decoder)\n",
    "            free_params(encoder)\n",
    "            frozen_params(discriminator)\n",
    "\n",
    "            batch_size = images.size()[0]\n",
    "\n",
    "            # run images\n",
    "            z_hat = encoder(images)\n",
    "            x_hat = decoder(z_hat)\n",
    "\n",
    "            # discriminate latents\n",
    "            d_z_hat = discriminator(encoder(Variable(images.data)))\n",
    "\n",
    "            # calculate reconstruction loss\n",
    "            train_recon_loss = criterion(x_hat, images)\n",
    "\n",
    "            # calculate discriminator loss\n",
    "            d_loss = args['lambda'] * (torch.log(d_z_hat)).mean()\n",
    "\n",
    "            train_recon_loss.backward(one)\n",
    "            d_loss.backward(-one)\n",
    "\n",
    "            enc_optim.step()\n",
    "            dec_optim.step()\n",
    "\n",
    "            # capture losses of interest\n",
    "            log['d_z_loss'].append(d_z_loss.data.item())\n",
    "            log['d_z_hat_loss'].append(d_z_hat_loss.data.item())\n",
    "            log['d_loss'].append(d_loss.data.item())\n",
    "            log['train_recon_loss'].append(train_recon_loss.data.item())\n",
    "\n",
    "        # test on test set\n",
    "        encoder.eval()\n",
    "        decoder.eval()\n",
    "        for images, _ in tqdm(test_loader):\n",
    "            z_hat = encoder(images)\n",
    "            x_hat = decoder(z_hat)\n",
    "            test_recon_loss = criterion(x_hat, images)\n",
    "\n",
    "        \n",
    "        if args['save']:\n",
    "            save_path = './save/WAEgan_{}-epoch_{}.pth'\n",
    "            torch.save(encoder.state_dict(), save_path.format('encoder', epoch))\n",
    "            torch.save(decoder.state_dict(), save_path.format('decoder', epoch))\n",
    "            torch.save(discriminator.state_dict(), save_path.format('discriminator', epoch))\n",
    "\n",
    "        # print stats after each epoch\n",
    "        print(\"Epoch: [{}/{}], \\tTrain Reconstruction Loss: {} d loss: {}, \\n\\t\\t\\tTest Reconstruction Loss:{}\".format(\n",
    "            epoch + 1, \n",
    "            args['epochs'], \n",
    "            train_recon_loss.data.item(),\n",
    "            d_loss.data.item(),\n",
    "            test_recon_loss.data.item()\n",
    "        ))\n",
    "        \n",
    "else:\n",
    "    # load some images to place with\n",
    "    for images, _ in tqdm(train_loader):\n",
    "        break\n",
    "        \n",
    "    enc_checkpoint = torch.load('save/WAEgan_encoder-best.pth')\n",
    "    encoder.load_state_dict(enc_checkpoint)\n",
    "\n",
    "    dec_checkpoint = torch.load('save/WAEgan_decoder-best.pth')\n",
    "    decoder.load_state_dict(dec_checkpoint)\n",
    "    \n",
    "    dec_checkpoint = torch.load('save/WAEgan_discriminator-best.pth')\n",
    "    discriminator.load_state_dict(dec_checkpoint)"
   ]
  },
  {
   "cell_type": "code",
   "execution_count": 12,
   "metadata": {},
   "outputs": [
    {
     "data": {
      "text/plain": [
       "<matplotlib.image.AxesImage at 0x7f80441753c8>"
      ]
     },
     "execution_count": 12,
     "metadata": {},
     "output_type": "execute_result"
    },
    {
     "data": {
      "image/png": "[encoded data removed]",
      "text/plain": [
       "<Figure size 432x288 with 1 Axes>"
      ]
     },
     "metadata": {},
     "output_type": "display_data"
    }
   ],
   "source": [
    "# look at an original image\n",
    "plt.imshow(images[0,0].numpy())"
   ]
  },
  {
   "cell_type": "code",
   "execution_count": 13,
   "metadata": {},
   "outputs": [
    {
     "data": {
      "text/plain": [
       "<matplotlib.image.AxesImage at 0x7f8046bb14e0>"
      ]
     },
     "execution_count": 13,
     "metadata": {},
     "output_type": "execute_result"
    },
    {
     "data": {
      "image/png": "[encoded data removed]",
      "text/plain": [
       "<Figure size 432x288 with 1 Axes>"
      ]
     },
     "metadata": {},
     "output_type": "display_data"
    }
   ],
   "source": [
    "# run same image through autoencoder and take a peak\n",
    "z_reps = encoder(images)\n",
    "decoded_images = decoder(z_reps)\n",
    "\n",
    "plt.imshow(decoded_images[0,0].detach().numpy())"
   ]
  },
  {
   "cell_type": "code",
   "execution_count": 14,
   "metadata": {},
   "outputs": [
    {
     "data": {
      "text/plain": [
       "<matplotlib.image.AxesImage at 0x7f8046b82518>"
      ]
     },
     "execution_count": 14,
     "metadata": {},
     "output_type": "execute_result"
    },
    {
     "data": {
      "image/png": "[encoded data removed]",
      "text/plain": [
       "<Figure size 432x288 with 1 Axes>"
      ]
     },
     "metadata": {},
     "output_type": "display_data"
    }
   ],
   "source": [
    "# try a random sample of the latent space\n",
    "rand_z_reps = torch.randn_like(z_reps)\n",
    "rand_decoded_images = decoder(rand_z_reps)\n",
    "\n",
    "plt.imshow(rand_decoded_images[0,0].detach().numpy())"
   ]
  },
  {
   "cell_type": "code",
   "execution_count": 15,
   "metadata": {},
   "outputs": [
    {
     "data": {
      "text/plain": [
       "array([[<matplotlib.axes._subplots.AxesSubplot object at 0x7f8046b9bd30>,\n",
       "        <matplotlib.axes._subplots.AxesSubplot object at 0x7f8046b563c8>,\n",
       "        <matplotlib.axes._subplots.AxesSubplot object at 0x7f8046afaa58>,\n",
       "        <matplotlib.axes._subplots.AxesSubplot object at 0x7f8046aa8128>],\n",
       "       [<matplotlib.axes._subplots.AxesSubplot object at 0x7f8046acc7b8>,\n",
       "        <matplotlib.axes._subplots.AxesSubplot object at 0x7f8046acc7f0>,\n",
       "        <matplotlib.axes._subplots.AxesSubplot object at 0x7f8046a28518>,\n",
       "        <matplotlib.axes._subplots.AxesSubplot object at 0x7f8046a4fba8>],\n",
       "       [<matplotlib.axes._subplots.AxesSubplot object at 0x7f8046a00278>,\n",
       "        <matplotlib.axes._subplots.AxesSubplot object at 0x7f80469a8908>,\n",
       "        <matplotlib.axes._subplots.AxesSubplot object at 0x7f80469d1f98>,\n",
       "        <matplotlib.axes._subplots.AxesSubplot object at 0x7f8046982668>],\n",
       "       [<matplotlib.axes._subplots.AxesSubplot object at 0x7f804692acf8>,\n",
       "        <matplotlib.axes._subplots.AxesSubplot object at 0x7f804695a3c8>,\n",
       "        <matplotlib.axes._subplots.AxesSubplot object at 0x7f8046905a58>,\n",
       "        <matplotlib.axes._subplots.AxesSubplot object at 0x7f80468b8128>],\n",
       "       [<matplotlib.axes._subplots.AxesSubplot object at 0x7f80468de7b8>,\n",
       "        <matplotlib.axes._subplots.AxesSubplot object at 0x7f8046886e48>,\n",
       "        <matplotlib.axes._subplots.AxesSubplot object at 0x7f8046838518>,\n",
       "        <matplotlib.axes._subplots.AxesSubplot object at 0x7f8046860ba8>]],\n",
       "      dtype=object)"
      ]
     },
     "execution_count": 15,
     "metadata": {},
     "output_type": "execute_result"
    },
    {
     "data": {
      "image/png": "[encoded data removed]",
      "text/plain": [
       "<Figure size 432x288 with 20 Axes>"
      ]
     },
     "metadata": {},
     "output_type": "display_data"
    }
   ],
   "source": [
    "fake_z_reps = torch.randn_like(z_reps)\n",
    "pd.DataFrame(fake_z_reps.numpy()).hist()"
   ]
  }
 ],
 "metadata": {
  "kernelspec": {
   "display_name": "torch",
   "language": "python",
   "name": "torch"
  },
  "language_info": {
   "codemirror_mode": {
    "name": "ipython",
    "version": 3
   },
   "file_extension": ".py",
   "mimetype": "text/x-python",
   "name": "python",
   "nbconvert_exporter": "python",
   "pygments_lexer": "ipython3",
   "version": "3.6.5"
  }
 },
 "nbformat": 4,
 "nbformat_minor": 2
}
